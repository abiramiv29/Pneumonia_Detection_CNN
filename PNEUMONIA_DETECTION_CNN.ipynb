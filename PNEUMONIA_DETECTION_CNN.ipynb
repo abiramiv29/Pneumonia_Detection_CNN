{
  "cells": [
    {
      "cell_type": "code",
      "execution_count": null,
      "id": "569d9056",
      "metadata": {
        "scrolled": false,
        "id": "569d9056",
        "outputId": "674f6128-da5f-4862-cf47-3344b4cc0999"
      },
      "outputs": [
        {
          "name": "stdout",
          "output_type": "stream",
          "text": [
            "Found 5216 images belonging to 2 classes.\n",
            "Found 16 images belonging to 2 classes.\n",
            "Epoch 1/10\n",
            "163/163 [==============================] - 267s 2s/step - loss: 0.4347 - accuracy: 0.7922\n",
            "Epoch 2/10\n",
            "163/163 [==============================] - 237s 1s/step - loss: 0.2738 - accuracy: 0.8852\n",
            "Epoch 3/10\n",
            "163/163 [==============================] - 220s 1s/step - loss: 0.2413 - accuracy: 0.9039\n",
            "Epoch 4/10\n",
            "163/163 [==============================] - 338s 2s/step - loss: 0.2201 - accuracy: 0.9078\n",
            "Epoch 5/10\n",
            "163/163 [==============================] - 219s 1s/step - loss: 0.2105 - accuracy: 0.9139\n",
            "Epoch 6/10\n",
            "163/163 [==============================] - 229s 1s/step - loss: 0.1874 - accuracy: 0.9275\n",
            "Epoch 7/10\n",
            "163/163 [==============================] - 227s 1s/step - loss: 0.1971 - accuracy: 0.9241\n",
            "Epoch 8/10\n",
            "163/163 [==============================] - 228s 1s/step - loss: 0.1692 - accuracy: 0.9321\n",
            "Epoch 9/10\n",
            "163/163 [==============================] - 239s 1s/step - loss: 0.1648 - accuracy: 0.9348\n",
            "Epoch 10/10\n",
            "163/163 [==============================] - 225s 1s/step - loss: 0.1561 - accuracy: 0.9408\n",
            "Found 624 images belonging to 2 classes.\n",
            "19/19 [==============================] - 22s 1s/step - loss: 0.3288 - accuracy: 0.9079\n",
            "Test Accuracy: 0.9078947305679321\n"
          ]
        }
      ],
      "source": [
        "import os\n",
        "import numpy as np\n",
        "import tensorflow as tf\n",
        "from tensorflow.keras.preprocessing.image import ImageDataGenerator\n",
        "from tensorflow.keras.layers import Conv2D, MaxPooling2D, Flatten, Dense\n",
        "from tensorflow.keras.models import Sequential\n",
        "\n",
        "# Define paths to your data\n",
        "train_dir = \"C:\\\\Users\\\\abi\\\\Downloads\\\\chest_xray\\\\train\"\n",
        "test_dir = \"C:\\\\Users\\\\abi\\\\Downloads\\\\chest_xray\\\\test\"\n",
        "val_dir = \"C:\\\\Users\\\\abi\\\\Downloads\\\\chest_xray\\\\val\"\n",
        "\n",
        "# Define image dimensions and batch size\n",
        "img_width, img_height = 150, 150\n",
        "batch_size = 32\n",
        "\n",
        "# Data Augmentation\n",
        "train_datagen = ImageDataGenerator(rescale=1./255,\n",
        "                                   shear_range=0.2,\n",
        "                                   zoom_range=0.2,\n",
        "                                   horizontal_flip=True)\n",
        "\n",
        "test_datagen = ImageDataGenerator(rescale=1./255)\n",
        "\n",
        "train_generator = train_datagen.flow_from_directory(train_dir,\n",
        "                                                    target_size=(img_width, img_height),\n",
        "                                                    batch_size=batch_size,\n",
        "                                                    class_mode='binary')\n",
        "\n",
        "validation_generator = test_datagen.flow_from_directory(val_dir,\n",
        "                                                        target_size=(img_width, img_height),\n",
        "                                                        batch_size=batch_size,\n",
        "                                                        class_mode='binary')\n",
        "\n",
        "# Balance the data\n",
        "normal_images = len(os.listdir(os.path.join(train_dir, 'NORMAL')))\n",
        "pneumonia_images = len(os.listdir(os.path.join(train_dir, 'PNEUMONIA')))\n",
        "if normal_images > 0 and pneumonia_images > 0:\n",
        "    total_samples = normal_images + pneumonia_images\n",
        "    weight_for_0 = (1 / normal_images) * (total_samples) / 2.0\n",
        "    weight_for_1 = (1 / pneumonia_images) * (total_samples) / 2.0\n",
        "    class_weight = {0: weight_for_0, 1: weight_for_1}\n",
        "else:\n",
        "    raise ValueError(\"One or more classes have no images in the training data.\")\n",
        "\n",
        "\n",
        "# Model\n",
        "model = Sequential([\n",
        "    Conv2D(32, (3, 3), activation='relu', input_shape=(img_width, img_height, 3)),\n",
        "    MaxPooling2D(2, 2),\n",
        "\n",
        "    Conv2D(64, (3, 3), activation='relu'),\n",
        "    MaxPooling2D(2, 2),\n",
        "\n",
        "    Conv2D(128, (3, 3), activation='relu'),\n",
        "    MaxPooling2D(2, 2),\n",
        "\n",
        "    Flatten(),\n",
        "    Dense(512, activation='relu'),\n",
        "    Dense(1, activation='sigmoid')\n",
        "])\n",
        "\n",
        "model.compile(optimizer='adam',\n",
        "              loss='binary_crossentropy',\n",
        "              metrics=['accuracy'])\n",
        "\n",
        "# Model fitting\n",
        "history = model.fit(train_generator,\n",
        "                    steps_per_epoch=train_generator.samples // batch_size,\n",
        "                    epochs=10,\n",
        "                    validation_data=validation_generator,\n",
        "                    validation_steps=validation_generator.samples // batch_size,\n",
        "                    class_weight=class_weight)\n",
        "\n",
        "# Evaluate model\n",
        "test_generator = test_datagen.flow_from_directory(test_dir,\n",
        "                                                  target_size=(img_width, img_height),\n",
        "                                                  batch_size=batch_size,\n",
        "                                                  class_mode='binary')\n",
        "\n",
        "test_loss, test_acc = model.evaluate(test_generator, steps=test_generator.samples // batch_size)\n",
        "print('Test Accuracy:', test_acc)\n"
      ]
    },
    {
      "cell_type": "code",
      "execution_count": null,
      "id": "a2e9af78",
      "metadata": {
        "id": "a2e9af78",
        "outputId": "a08269ec-c7b1-4799-bcc4-df3ca8e22d7e"
      },
      "outputs": [
        {
          "name": "stdout",
          "output_type": "stream",
          "text": [
            "Number of balanced normal images: 2608\n",
            "Number of balanced pneumonia images: 2608\n"
          ]
        }
      ],
      "source": [
        "# Calculate the weighted count of normal and pneumonia images\n",
        "weighted_normal_images = int(normal_images * weight_for_0)\n",
        "weighted_pneumonia_images = int(pneumonia_images * weight_for_1)\n",
        "\n",
        "print(\"Number of balanced normal images:\", weighted_normal_images)\n",
        "print(\"Number of balanced pneumonia images:\", weighted_pneumonia_images)\n"
      ]
    },
    {
      "cell_type": "code",
      "execution_count": null,
      "id": "a4d78ee0",
      "metadata": {
        "id": "a4d78ee0",
        "outputId": "9bfd39cf-3472-4517-e3e3-e131cc30d75e"
      },
      "outputs": [
        {
          "data": {
            "image/png": "[encoded data removed]",
            "text/plain": [
              "<Figure size 720x360 with 2 Axes>"
            ]
          },
          "metadata": {
            "needs_background": "light"
          },
          "output_type": "display_data"
        }
      ],
      "source": [
        "import os\n",
        "import matplotlib.pyplot as plt\n",
        "\n",
        "# Count the number of normal and pneumonia images before balancing\n",
        "normal_images_before = len(os.listdir(os.path.join(train_dir, 'normal')))\n",
        "pneumonia_images_before = len(os.listdir(os.path.join(train_dir, 'pneumonia')))\n",
        "\n",
        "# Calculate the weighted count of normal and pneumonia images after balancing\n",
        "weighted_normal_images = int(normal_images * weight_for_0)\n",
        "weighted_pneumonia_images = int(pneumonia_images * weight_for_1)\n",
        "\n",
        "# Plotting the data distribution\n",
        "labels = ['Normal', 'Pneumonia']\n",
        "before_balancing = [normal_images_before, pneumonia_images_before]\n",
        "after_balancing = [weighted_normal_images, weighted_pneumonia_images]\n",
        "\n",
        "x = range(len(labels))\n",
        "\n",
        "plt.figure(figsize=(10, 5))\n",
        "\n",
        "plt.subplot(1, 2, 1)\n",
        "plt.bar(x, before_balancing, color='blue')\n",
        "plt.title('Before Balancing')\n",
        "plt.xticks(x, labels)\n",
        "plt.ylabel('Number of Images')\n",
        "\n",
        "plt.subplot(1, 2, 2)\n",
        "plt.bar(x, after_balancing, color='green')\n",
        "plt.title('After Balancing')\n",
        "plt.xticks(x, labels)\n",
        "\n",
        "plt.show()\n"
      ]
    },
    {
      "cell_type": "code",
      "execution_count": null,
      "id": "54c33bb4",
      "metadata": {
        "scrolled": false,
        "id": "54c33bb4",
        "outputId": "7ddbcb3e-c0ad-44b3-f1fc-2b07f727751c"
      },
      "outputs": [
        {
          "name": "stdout",
          "output_type": "stream",
          "text": [
            "Found 624 images belonging to 2 classes.\n",
            "20/20 [==============================] - 20s 931ms/step\n"
          ]
        },
        {
          "data": {
            "image/png": "[encoded data removed]",
            "text/plain": [
              "<Figure size 432x288 with 1 Axes>"
            ]
          },
          "metadata": {
            "needs_background": "light"
          },
          "output_type": "display_data"
        },
        {
          "name": "stdout",
          "output_type": "stream",
          "text": [
            "Test Accuracy: 0.9166666666666666\n",
            "Sensitivity (Recall): 0.9794871794871794\n",
            "Specificity: 0.811965811965812\n",
            "Positive Predictive Value (Precision): 0.8967136150234741\n",
            "Negative Predictive Value: 0.9595959595959596\n",
            "Prevalence: 0.625\n",
            "Confusion Matrix:\n",
            "TN: 190 FP: 44\n",
            "FN: 8 TP: 382\n"
          ]
        }
      ],
      "source": [
        "from sklearn.metrics import confusion_matrix, roc_curve, auc, accuracy_score, recall_score, precision_score\n",
        "\n",
        "# Predict labels for test data\n",
        "test_generator = test_datagen.flow_from_directory(test_dir,\n",
        "                                                  target_size=(img_width, img_height),\n",
        "                                                  batch_size=batch_size,\n",
        "                                                  class_mode='binary',\n",
        "                                                  shuffle=False)\n",
        "\n",
        "test_pred = model.predict(test_generator)\n",
        "test_labels = test_generator.classes\n",
        "\n",
        "# Calculate test accuracy\n",
        "test_accuracy = accuracy_score(test_labels, test_pred > 0.5)\n",
        "\n",
        "# Calculate confusion matrix\n",
        "tn, fp, fn, tp = confusion_matrix(test_labels, test_pred > 0.5).ravel()\n",
        "\n",
        "# Calculate sensitivity (recall)\n",
        "sensitivity = recall_score(test_labels, test_pred > 0.5)\n",
        "\n",
        "# Calculate specificity\n",
        "specificity = tn / (tn + fp)\n",
        "\n",
        "# Calculate positive predictive value (precision)\n",
        "ppv = precision_score(test_labels, test_pred > 0.5)\n",
        "\n",
        "# Calculate negative predictive value\n",
        "npv = tn / (tn + fn)\n",
        "\n",
        "# Calculate prevalence\n",
        "prevalence = (tp + fn) / (tp + tn + fp + fn)\n",
        "\n",
        "# Plot ROC curve\n",
        "fpr, tpr, thresholds = roc_curve(test_labels, test_pred)\n",
        "roc_auc = auc(fpr, tpr)\n",
        "\n",
        "plt.figure()\n",
        "plt.plot(fpr, tpr, color='darkorange', lw=2, label='ROC curve (area = %0.2f)' % roc_auc)\n",
        "plt.plot([0, 1], [0, 1], color='navy', lw=2, linestyle='--')\n",
        "plt.xlim([0.0, 1.0])\n",
        "plt.ylim([0.0, 1.05])\n",
        "plt.xlabel('False Positive Rate')\n",
        "plt.ylabel('True Positive Rate')\n",
        "plt.title('Receiver Operating Characteristic (ROC) Curve')\n",
        "plt.legend(loc=\"lower right\")\n",
        "plt.show()\n",
        "\n",
        "# Print metrics\n",
        "print(\"Test Accuracy:\", test_accuracy)\n",
        "print(\"Sensitivity (Recall):\", sensitivity)\n",
        "print(\"Specificity:\", specificity)\n",
        "print(\"Positive Predictive Value (Precision):\", ppv)\n",
        "print(\"Negative Predictive Value:\", npv)\n",
        "print(\"Prevalence:\", prevalence)\n",
        "print(\"Confusion Matrix:\")\n",
        "print(\"TN:\", tn, \"FP:\", fp)\n",
        "print(\"FN:\", fn, \"TP:\", tp)\n"
      ]
    },
    {
      "cell_type": "code",
      "execution_count": null,
      "id": "b9a4bb2a",
      "metadata": {
        "id": "b9a4bb2a",
        "outputId": "4bc67cc2-e9d5-4ad8-a947-01ea2a72f209"
      },
      "outputs": [
        {
          "name": "stdout",
          "output_type": "stream",
          "text": [
            "Confusion matrix, without normalization\n"
          ]
        },
        {
          "data": {
            "image/png": "[encoded data removed]",
            "text/plain": [
              "<Figure size 576x432 with 2 Axes>"
            ]
          },
          "metadata": {
            "needs_background": "light"
          },
          "output_type": "display_data"
        }
      ],
      "source": [
        "from sklearn.metrics import confusion_matrix\n",
        "import itertools\n",
        "\n",
        "# Function to plot confusion matrix\n",
        "def plot_confusion_matrix(cm, classes,\n",
        "                          normalize=False,\n",
        "                          title='Confusion matrix',\n",
        "                          cmap=plt.cm.Blues):\n",
        "    \"\"\"\n",
        "    This function prints and plots the confusion matrix.\n",
        "    Normalization can be applied by setting `normalize=True`.\n",
        "    \"\"\"\n",
        "    if normalize:\n",
        "        cm = cm.astype('float') / cm.sum(axis=1)[:, np.newaxis]\n",
        "        print(\"Normalized confusion matrix\")\n",
        "    else:\n",
        "        print('Confusion matrix, without normalization')\n",
        "\n",
        "    plt.imshow(cm, interpolation='nearest', cmap=cmap)\n",
        "    plt.title(title)\n",
        "    plt.colorbar()\n",
        "    tick_marks = np.arange(len(classes))\n",
        "    plt.xticks(tick_marks, classes, rotation=45)\n",
        "    plt.yticks(tick_marks, classes)\n",
        "\n",
        "    fmt = '.2f' if normalize else 'd'\n",
        "    thresh = cm.max() / 2.\n",
        "    for i, j in itertools.product(range(cm.shape[0]), range(cm.shape[1])):\n",
        "        plt.text(j, i, format(cm[i, j], fmt),\n",
        "                 horizontalalignment=\"center\",\n",
        "                 color=\"white\" if cm[i, j] > thresh else \"black\")\n",
        "\n",
        "    plt.ylabel('True label')\n",
        "    plt.xlabel('Predicted label')\n",
        "    plt.tight_layout()\n",
        "\n",
        "# Calculate confusion matrix\n",
        "cm = confusion_matrix(test_labels, test_pred > 0.5)\n",
        "\n",
        "# Plot non-normalized confusion matrix\n",
        "plt.figure(figsize=(8, 6))\n",
        "plot_confusion_matrix(cm, classes=['Normal', 'Pneumonia'], title='Confusion Matrix')\n",
        "plt.show()\n"
      ]
    },
    {
      "cell_type": "code",
      "execution_count": null,
      "id": "f5e34864",
      "metadata": {
        "id": "f5e34864",
        "outputId": "636be60e-ec31-44da-c9d9-b6dfaf6fac5c"
      },
      "outputs": [
        {
          "name": "stdout",
          "output_type": "stream",
          "text": [
            "1/1 [==============================] - 0s 107ms/step\n",
            "Prediction: Pneumonia\n"
          ]
        }
      ],
      "source": [
        "from tensorflow.keras.preprocessing import image\n",
        "\n",
        "# Load the image\n",
        "img_path = \"C:\\\\Users\\\\abi\\\\Downloads\\\\archive\\\\chest_xray\\\\val\\\\PNEUMONIA\\\\person1946_bacteria_4875.jpeg\"\n",
        "img = image.load_img(img_path, target_size=(img_width, img_height))\n",
        "img_array = image.img_to_array(img)\n",
        "img_array = np.expand_dims(img_array, axis=0)  # Expand dimensions to match batch size\n",
        "\n",
        "# Preprocess the image\n",
        "img_array /= 255.  # Normalize pixel values\n",
        "\n",
        "# Predict the class\n",
        "prediction = model.predict(img_array)\n",
        "\n",
        "# Display the prediction result\n",
        "if prediction[0][0] > 0.5:\n",
        "    print(\"Prediction: Pneumonia\")\n",
        "else:\n",
        "    print(\"Prediction: Normal\")\n"
      ]
    }
  ],
  "metadata": {
    "kernelspec": {
      "display_name": "Python 3 (ipykernel)",
      "language": "python",
      "name": "python3"
    },
    "language_info": {
      "codemirror_mode": {
        "name": "ipython",
        "version": 3
      },
      "file_extension": ".py",
      "mimetype": "text/x-python",
      "name": "python",
      "nbconvert_exporter": "python",
      "pygments_lexer": "ipython3",
      "version": "3.9.7"
    },
    "colab": {
      "provenance": []
    }
  },
  "nbformat": 4,
  "nbformat_minor": 5
}